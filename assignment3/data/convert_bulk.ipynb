{
 "cells": [
  {
   "cell_type": "markdown",
   "metadata": {},
   "source": [
    "# deal with converting csv to json when uploading to aws elasticsearch"
   ]
  },
  {
   "cell_type": "code",
   "execution_count": null,
   "metadata": {
    "collapsed": true
   },
   "outputs": [],
   "source": [
    "import json\n",
    "import pandas as pd"
   ]
  },
  {
   "cell_type": "code",
   "execution_count": null,
   "metadata": {
    "collapsed": false
   },
   "outputs": [],
   "source": [
    "json.dumps({'a':1})"
   ]
  },
  {
   "cell_type": "code",
   "execution_count": null,
   "metadata": {
    "collapsed": true
   },
   "outputs": [],
   "source": [
    "df = pd.read_csv('File_3.csv')"
   ]
  },
  {
   "cell_type": "code",
   "execution_count": null,
   "metadata": {
    "collapsed": false
   },
   "outputs": [],
   "source": [
    "df.head()"
   ]
  },
  {
   "cell_type": "code",
   "execution_count": null,
   "metadata": {
    "collapsed": true
   },
   "outputs": [],
   "source": [
    "# { \"index\" : { \"_index\": \"movies\", \"_type\" : \"movie\", \"_id\" : \"2\" } }\n",
    "# {\"director\": \"Frankenheimer, John\", \"genre\": [\"Drama\", \"Mystery\", \"Thriller\"], \"year\": 1962, \"actor\": [\"Lansbury, Angela\", \"Sinatra, Frank\", \"Leigh, Janet\", \"Harvey, Laurence\", \"Silva, Henry\", \"Frees, Paul\", \"Gregory, James\", \"Bissell, Whit\", \"McGiver, John\", \"Parrish, Leslie\", \"Edwards, James\", \"Flowers, Bess\", \"Dhiegh, Khigh\", \"Payne, Julie\", \"Kleeb, Helen\", \"Gray, Joe\", \"Nalder, Reggie\", \"Stevens, Bert\", \"Masters, Michael\", \"Lowell, Tom\"], \"title\": \"The Manchurian Candidate\"}\n",
    "# { \"index\" : { \"_index\": \"movies\", \"_type\" : \"movie\", \"_id\" : \"3\" } }\n",
    "# {\"director\": \"Baird, Stuart\", \"genre\": [\"Action\", \"Crime\", \"Thriller\"], \"year\": 1998, \"actor\": [\"Downey Jr., Robert\", \"Jones, Tommy Lee\", \"Snipes, Wesley\", \"Pantoliano, Joe\", \"Jacob, Ir\\u00e8ne\", \"Nelligan, Kate\", \"Roebuck, Daniel\", \"Malahide, Patrick\", \"Richardson, LaTanya\", \"Wood, Tom\", \"Kosik, Thomas\", \"Stellate, Nick\", \"Minkoff, Robert\", \"Brown, Spitfire\", \"Foster, Reese\", \"Spielbauer, Bruce\", \"Mukherji, Kevin\", \"Cray, Ed\", \"Fordham, David\", \"Jett, Charlie\"], \"title\": \"U.S. Marshals\"}\n",
    "# { \"index\" : { \"_index\": \"movies\", \"_type\" : \"movie\", \"_id\" : \"4\" } }\n",
    "# {\"director\": \"Ray, Nicholas\", \"genre\": [\"Drama\", \"Romance\"], \"year\": 1955,"
   ]
  },
  {
   "cell_type": "code",
   "execution_count": null,
   "metadata": {
    "collapsed": true
   },
   "outputs": [],
   "source": [
    "dict_list = []\n",
    "index_list = []\n",
    "cnt = 1\n",
    "for index, row in df.iterrows():\n",
    "    if row[\"bestAnswer\"] == 1:\n",
    "        tmp = {}\n",
    "        tmp[\"RestaurantID\"] = row[\"RestaurantId\"]\n",
    "        tmp[\"Cuisine\"] = row[\"Cuisine\"]\n",
    "        tmp[\"Score\"] = row[\"score\"]\n",
    "        dict_list.append(tmp)\n",
    "        tmp_index_outer={}\n",
    "        tmp_index={}\n",
    "        tmp_index[\"_index\"] = \"predictions\"\n",
    "        tmp_index[\"_type\"] = \"Prediction\"\n",
    "        tmp_index[\"_id\"] = cnt\n",
    "        cnt += 1\n",
    "        tmp_index_outer[\"index\"] = tmp_index\n",
    "        index_list.append(tmp_index_outer)"
   ]
  },
  {
   "cell_type": "code",
   "execution_count": null,
   "metadata": {
    "collapsed": true
   },
   "outputs": [],
   "source": [
    "file_cache = []\n",
    "for i in range(len(dict_list)):\n",
    "    file_cache.append(json.dumps(index_list[i]))\n",
    "    file_cache.append(json.dumps(dict_list[i]))"
   ]
  },
  {
   "cell_type": "code",
   "execution_count": null,
   "metadata": {
    "collapsed": false
   },
   "outputs": [],
   "source": [
    "file_cache"
   ]
  },
  {
   "cell_type": "code",
   "execution_count": null,
   "metadata": {
    "collapsed": true
   },
   "outputs": [],
   "source": [
    "with open(\"convertedData.json\", \"w\") as output:\n",
    "    output.write(\"\\n\".join(file_cache))\n",
    "    output.write(\"\\n\")"
   ]
  },
  {
   "cell_type": "code",
   "execution_count": null,
   "metadata": {
    "collapsed": true
   },
   "outputs": [],
   "source": [
    "# deal with query elastic search from lambda: see lambda code"
   ]
  },
  {
   "cell_type": "code",
   "execution_count": null,
   "metadata": {
    "collapsed": false
   },
   "outputs": [],
   "source": [
    "cnt_verify = 0\n",
    "for index, row in df.iterrows():\n",
    "    if row[\"bestAnswer\"] == 1 and row[\"Cuisine\"] == \"chinese\":\n",
    "        cnt_verify += 1\n",
    "cnt_verify"
   ]
  },
  {
   "cell_type": "code",
   "execution_count": null,
   "metadata": {
    "collapsed": false
   },
   "outputs": [],
   "source": [
    "# import boto3\n",
    "# from botocore.vendored import requests\n",
    "import json"
   ]
  },
  {
   "cell_type": "code",
   "execution_count": null,
   "metadata": {
    "collapsed": true
   },
   "outputs": [],
   "source": [
    "headers = {\n",
    "    'Content-Type': \"application/json\",\n",
    "}"
   ]
  },
  {
   "cell_type": "code",
   "execution_count": null,
   "metadata": {
    "collapsed": true
   },
   "outputs": [],
   "source": [
    " body = { \"sort\": [\n",
    "    {\n",
    "      \"Score\": {\n",
    "        \"order\": \"desc\"\n",
    "      }\n",
    "    }\n",
    "  ],\n",
    "  \"query\": {\n",
    "    \"term\": {\n",
    "      \"Cuisine\": \"chinese\"\n",
    "    }\n",
    "  },\n",
    "  \"size\": 5\n",
    "}\n"
   ]
  },
  {
   "cell_type": "code",
   "execution_count": null,
   "metadata": {
    "collapsed": false
   },
   "outputs": [],
   "source": [
    "body"
   ]
  },
  {
   "cell_type": "code",
   "execution_count": null,
   "metadata": {
    "collapsed": true
   },
   "outputs": [],
   "source": [
    "url = \"https://search-movies-wyrw3iyi3rnqu3ajemf6skplua.us-east-1.es.amazonaws.com/predictions/Prediction/_search?\""
   ]
  },
  {
   "cell_type": "code",
   "execution_count": null,
   "metadata": {
    "collapsed": true
   },
   "outputs": [],
   "source": [
    "r = requests.post(url, data = json.dumps(body), headers = headers)"
   ]
  },
  {
   "cell_type": "code",
   "execution_count": null,
   "metadata": {
    "collapsed": true
   },
   "outputs": [],
   "source": [
    "content = json.loads(r.text)[\"hits\"][\"hits\"]"
   ]
  },
  {
   "cell_type": "code",
   "execution_count": null,
   "metadata": {
    "collapsed": true
   },
   "outputs": [],
   "source": [
    "restaurant_ids = []\n",
    "for i in range(len(content)):\n",
    "    restaurant_ids.append(content[i][\"_source\"][\"RestaurantID\"])"
   ]
  },
  {
   "cell_type": "code",
   "execution_count": null,
   "metadata": {
    "collapsed": false
   },
   "outputs": [],
   "source": [
    "restaurant_ids"
   ]
  },
  {
   "cell_type": "code",
   "execution_count": null,
   "metadata": {
    "collapsed": false
   },
   "outputs": [],
   "source": [
    "import json\n",
    "import requests\n",
    "headers = {\n",
    "    'Content-Type': \"application/json\",\n",
    "}\n",
    "body = { \"sort\": [\n",
    "    {\n",
    "      \"Score\": {\n",
    "        \"order\": \"desc\"\n",
    "      }\n",
    "    }\n",
    "  ],\n",
    "  \"query\": {\n",
    "    \"term\": {\n",
    "      \"Cuisine\": \"chinese\"\n",
    "    }\n",
    "  },\n",
    "  \"size\": 5\n",
    "}\n",
    "url = \"https://search-movies-wyrw3iyi3rnqu3ajemf6skplua.us-east-1.es.amazonaws.com/predictions/Prediction/_search?\"\n",
    "r = requests.post(url, data = json.dumps(body), headers = headers)\n",
    "content = r.json()[\"hits\"][\"hits\"]\n",
    "restaurant_ids = []\n",
    "for i in range(len(content)):\n",
    "    restaurant_ids.append(content[i][\"_source\"][\"RestaurantID\"])\n",
    "print(restaurant_ids)"
   ]
  },
  {
   "cell_type": "code",
   "execution_count": null,
   "metadata": {
    "collapsed": true
   },
   "outputs": [],
   "source": []
  }
 ],
 "metadata": {
  "anaconda-cloud": {},
  "kernelspec": {
   "display_name": "Python [Root]",
   "language": "python",
   "name": "Python [Root]"
  },
  "language_info": {
   "codemirror_mode": {
    "name": "ipython",
    "version": 2
   },
   "file_extension": ".py",
   "mimetype": "text/x-python",
   "name": "python",
   "nbconvert_exporter": "python",
   "pygments_lexer": "ipython2",
   "version": "2.7.13"
  }
 },
 "nbformat": 4,
 "nbformat_minor": 1
}
